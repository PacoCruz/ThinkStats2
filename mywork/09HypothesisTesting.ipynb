{
 "metadata": {
  "language_info": {
   "codemirror_mode": {
    "name": "ipython",
    "version": 3
   },
   "file_extension": ".py",
   "mimetype": "text/x-python",
   "name": "python",
   "nbconvert_exporter": "python",
   "pygments_lexer": "ipython3",
   "version": "3.8.5-final"
  },
  "orig_nbformat": 2,
  "kernelspec": {
   "name": "python3",
   "display_name": "Python 3",
   "language": "python"
  }
 },
 "nbformat": 4,
 "nbformat_minor": 2,
 "cells": [
  {
   "cell_type": "code",
   "execution_count": 1,
   "metadata": {},
   "outputs": [],
   "source": [
    "# ln -s ../code/analytic.py analytic.py\n",
    "%matplotlib inline\n",
    "\n",
    "import numpy as np\n",
    "import pandas as pd\n",
    "import math\n",
    "\n",
    "import thinkstats2\n",
    "import thinkplot\n",
    "\n",
    "#import nsfg\n",
    "#import first\n",
    "#import brfss\n",
    "#import scatter"
   ]
  },
  {
   "source": [
    "## Classical hypothesis testing\n",
    "\n",
    "The fundamental question we want to address is whether the effects we see in a sample are likely to appear in the larger population. There are several approaches including Fisher's null hypothesis testing, Neyman-Pearson decision theory, and Bayesian inference.\n",
    "- Quantify the size of the apparent effect by choosing a **test statistic**.\n",
    "- Define the **null hypothesis**, which is a model of the system based on the assumption that the apparent effect is not real.\n",
    "- Compute a **p-value** which is the probability of seeing the apparent effect if the null hypothesis were true.\n",
    "- Interpret the result: if the p-value is low, the effect is said to be **statistically significant**, unlikely to appear in the larger population."
   ],
   "cell_type": "markdown",
   "metadata": {}
  },
  {
   "source": [
    "## 9.2 Hypothesis Testing"
   ],
   "cell_type": "markdown",
   "metadata": {}
  },
  {
   "cell_type": "code",
   "execution_count": null,
   "metadata": {},
   "outputs": [],
   "source": []
  }
 ]
}